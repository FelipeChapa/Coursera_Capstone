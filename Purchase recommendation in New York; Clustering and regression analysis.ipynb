{
 "cells": [
  {
   "cell_type": "markdown",
   "metadata": {},
   "source": [
    " <img src=\"https://yardnyc.com/wp-content/uploads/2018/09/YARD_SITE_2018_NEWS_HERO_FORBES_092318.jpg\" alt=\"New York Landscape\" style=\"width:600px;height:300px;\">"
   ]
  },
  {
   "cell_type": "markdown",
   "metadata": {},
   "source": [
    "# Purchase recommendation for real estate in New York\n",
    "### Where should you purchase your next house in New York? Unsupervised clustering and statistical regression analysis."
   ]
  },
  {
   "cell_type": "markdown",
   "metadata": {},
   "source": [
    "### Table of contents\n",
    "\n",
    "<div class=\"alert alert-block alert-info\" style=\"margin-top: 20px\">\n",
    "\n",
    "<font size = 3>\n",
    "\n",
    "1.  <a href=\"#Introduction\">1.1 Introduction</a>\n",
    "\n",
    "2.  <a href=\"#ETL\">2.1 Data ETL Process</a>\n",
    "\n",
    "3.  <a href=\"#item3\"></a>\n",
    "\n",
    "4.  <a href=\"#item4\"></a>\n",
    "\n",
    "5.  <a href=\"#item5\"></a>  \n",
    "    </font>\n",
    "    </div>"
   ]
  },
  {
   "cell_type": "markdown",
   "metadata": {},
   "source": [
    "### <a id=\"Introduction\"> </a> 1.1 Introduction\n",
    "Considering the various expensive house prices in the different neighborhood and boroughs of New York, a careful analysis of current house prices as well as future house market house price prediction are important for consideration when deciding on which house to buy. For this scenario, we will assume the investor is interested in buying residential homes in New York. Specifically, I am interested in analyzing the price of houses in heach neighborhood, amount of houses bought/sold, location analysis, an unsupervised clustering analysis, as well as a regression in order to predict future house value for the prospective neighborhoods.\n",
    "Machine learning tools such as unsupervised clustering and statistical regression are used in order to identify common neighborhoods and analyze curent and future property prices."
   ]
  },
  {
   "cell_type": "markdown",
   "metadata": {},
   "source": [
    "### 1.2 Selection of datasets\n",
    "I will utilize the following tools and datasets to perform my analysis:\n",
    "- NYU \"2016 New York City Neighborhood Tabulation Areas\" GeoJson\n",
    "- NYC \"DOF: Summary of Neighborhood Sales by Neighborhood Citywide by Borough\"\n",
    "- CognitiveClass.ai \"newyork_data\"\n",
    "\n",
    "The following libraries and APIs will be utilized to analyze and visualize the data:\n",
    "Data analysis:\n",
    "- Pandas\n",
    "- SkLearn\n",
    "    - k-means clustering\n",
    "    - Statistical Regression\n",
    "- Numpy\n",
    "Visualization: \n",
    "- Folium\n",
    "- Matplotlib\n",
    "- Seaborn\n",
    "Data:\n",
    "- Foursquare API\n",
    "- NYC OpenData API\n",
    "\n",
    "Data analysis tools are chosen in order to effectively read and work with Data Frames, perform mathematical analysis and create Machine Learning models. K-means clustering is used in order to group neighborhoods and possibly identify common available investments amongst different areas. It will prove to be useful in observing alternatives after finding a viable investment in another area. Statistical regression is used in order to predict future neighborhood house prices in order to identify trends and give information regarding future value of the investment.\n",
    "\n",
    "For visualization, Folium is used for geospatial data analysis and the matplotlib and seaborn libraries are used for graphical analysis of numerical and categorical data.\n",
    "\n",
    "Lastly, the foursquare and NYC OpenData APIs are queried in order to obtain surrouding venues data and geospatial data respectively."
   ]
  },
  {
   "cell_type": "markdown",
   "metadata": {},
   "source": [
    "### <a id=\"ETL\"> </a>  2.1 Data ETL process"
   ]
  },
  {
   "cell_type": "code",
   "execution_count": null,
   "metadata": {},
   "outputs": [],
   "source": []
  }
 ],
 "metadata": {
  "kernelspec": {
   "display_name": "Python 3",
   "language": "python",
   "name": "python3"
  },
  "language_info": {
   "codemirror_mode": {
    "name": "ipython",
    "version": 3
   },
   "file_extension": ".py",
   "mimetype": "text/x-python",
   "name": "python",
   "nbconvert_exporter": "python",
   "pygments_lexer": "ipython3",
   "version": "3.7.6"
  }
 },
 "nbformat": 4,
 "nbformat_minor": 4
}
